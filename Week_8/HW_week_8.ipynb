{
 "cells": [
  {
   "cell_type": "markdown",
   "metadata": {},
   "source": [
    "1. Определение количества различных подстрок с использованием хэш-функции. Пусть дана строка S длиной N, состоящая только из маленьких латинских букв. Требуется найти количество различных подстрок в этой строке."
   ]
  },
  {
   "cell_type": "code",
   "execution_count": 18,
   "metadata": {},
   "outputs": [
    {
     "name": "stdout",
     "output_type": "stream",
     "text": [
      "Введите строку : йцу\n",
      " Строка йцу имеет длину 3 сиволов.\n",
      "\n",
      "Строка содержит следующие подстроки\n",
      "\n",
      "Подстрока йц\n",
      "Подстрока й\n",
      "Подстрока цу\n",
      "Подстрока ц\n",
      "Подстрока у\n",
      "\n",
      "Всего подстрок: 5\n"
     ]
    }
   ],
   "source": [
    "import hashlib\n",
    "S = str(input(\"Введите строку : \"))\n",
    " \n",
    "print(f\" Строка {S} имеет длину {len(S)} сиволов.\")\n",
    "print()\n",
    "print(f\"Строка содержит следующие подстроки\")\n",
    "print()\n",
    " \n",
    "subs_set = set()\n",
    "# subs_dict = {}\n",
    "for i in range(len(S)):\n",
    "    for j in range(len(S)-1 if i == 0 else len(S), i, -1):\n",
    "        subs_set.add(hash(S[i:j]))\n",
    "        print(f\"Подстрока {S[i:j]}\")\n",
    "\n",
    " \n",
    "print()\n",
    "print(\"Всего подстрок:\", len(subs_set))"
   ]
  },
  {
   "cell_type": "code",
   "execution_count": null,
   "metadata": {},
   "outputs": [],
   "source": []
  }
 ],
 "metadata": {
  "kernelspec": {
   "display_name": "Python 3",
   "language": "python",
   "name": "python3"
  },
  "language_info": {
   "codemirror_mode": {
    "name": "ipython",
    "version": 3
   },
   "file_extension": ".py",
   "mimetype": "text/x-python",
   "name": "python",
   "nbconvert_exporter": "python",
   "pygments_lexer": "ipython3",
   "version": "3.6.5"
  }
 },
 "nbformat": 4,
 "nbformat_minor": 2
}
