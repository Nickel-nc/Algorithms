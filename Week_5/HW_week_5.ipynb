{
 "cells": [
  {
   "cell_type": "markdown",
   "metadata": {},
   "source": [
    "1. Пользователь вводит данные о количестве предприятий, их наименования и прибыль за 4 квартала (т.е. 4 отдельных числа) для каждого предприятия.. Программа должна определить среднюю прибыль (за год для всех предприятий) и вывести наименования предприятий, чья прибыль выше среднего и отдельно вывести наименования предприятий, чья прибыль ниже среднего."
   ]
  },
  {
   "cell_type": "code",
   "execution_count": 50,
   "metadata": {},
   "outputs": [
    {
     "name": "stdout",
     "output_type": "stream",
     "text": [
      "Количество компаний: 5\n",
      "Введите наименование 1-й компании: NVIDIA\n",
      "q1 5000\n",
      "q2 10000\n",
      "q3 7000\n",
      "q4 8000\n",
      "Введите наименование 2-й компании: Google\n",
      "q1 12000\n",
      "q2 15000\n",
      "q3 10000\n",
      "q4 10000\n",
      "Введите наименование 3-й компании: Toshiba\n",
      "q1 8000\n",
      "q2 7000\n",
      "q3 7000\n",
      "q4 6000\n",
      "Введите наименование 4-й компании: Toyota\n",
      "q1 20000\n",
      "q2 25000\n",
      "q3 13000\n",
      "q4 12000\n",
      "Введите наименование 5-й компании: Yandex\n",
      "q1 6000\n",
      "q2 6500\n",
      "q3 7000\n",
      "q4 4000\n",
      "\n",
      "Средняя прибыль: 39700. предприятий с прибылью выше средней:\n",
      "Google\n",
      "Toyota\n",
      "\n",
      "Средняя прибыль: 39700. предприятий с прибылью меньше средней:\n",
      "NVIDIA\n",
      "Toshiba\n",
      "Yandex\n"
     ]
    }
   ],
   "source": [
    "firms = {}\n",
    "n = int(input( \"Количество компаний: \" ))\n",
    "s = 0\n",
    "for i in range(n):\n",
    "    firm_name = input(f\"Введите наименование {i+1}-й компании: \" )\n",
    "    q1 = int(input(\"q1 \"))\n",
    "    q2 = int(input(\"q2 \"))\n",
    "    q3 = int(input(\"q3 \"))\n",
    "    q4 = int(input(\"q4 \"))\n",
    "    year = q1+q2+q3+q4\n",
    "    firms[firm_name] = year\n",
    "    s += year\n",
    "avrg = s / n\n",
    "print( \"\\nСредняя прибыль: %.0f. предприятия с прибылью выше средней:\" % avrg)\n",
    "for i in firms:\n",
    "    if firms[i] > avrg:\n",
    "        print(i)\n",
    "print( \"\\nСредняя прибыль: %.0f. предприятия с прибылью меньше средней:\" % avrg)\n",
    "for i in firms:\n",
    "    if firms[i] < avrg:\n",
    "        print(i)"
   ]
  },
  {
   "cell_type": "markdown",
   "metadata": {},
   "source": [
    "2. Написать программу сложения и умножения двух шестнадцатеричных чисел. При этом каждое число представляется как массив, элементы которого это цифры числа. Например, пользователь ввёл A2 и C4F. Сохранить их как [‘A’, ‘2’] и [‘C’, ‘4’, ‘F’] соответственно. Сумма чисел из примера: [‘C’, ‘F’, ‘1’], произведение - [‘7’, ‘C’, ‘9’, ‘F’, ‘E’]."
   ]
  },
  {
   "cell_type": "code",
   "execution_count": 28,
   "metadata": {},
   "outputs": [
    {
     "name": "stdout",
     "output_type": "stream",
     "text": [
      "Введите первое шестнадцатеричное число A2\n",
      "Введите второе шестнадцатиричное число C4F\n",
      "cf1 7c9fe\n"
     ]
    }
   ],
   "source": [
    "a = list(input(\"Введите первое шестнадцатеричное число \"))\n",
    "b = list(input(\"Введите второе шестнадцатиричное число \"))\n",
    "\n",
    "summ = hex(int(''.join(a), 16) + int(''.join(b), 16)).split('0x')[1]\n",
    "mult = hex(int(''.join(a), 16) * int(''.join(b), 16)).split('0x')[1]\n",
    "\n",
    "print(summ, mult)"
   ]
  },
  {
   "cell_type": "code",
   "execution_count": null,
   "metadata": {},
   "outputs": [],
   "source": []
  }
 ],
 "metadata": {
  "kernelspec": {
   "display_name": "Python 3",
   "language": "python",
   "name": "python3"
  },
  "language_info": {
   "codemirror_mode": {
    "name": "ipython",
    "version": 3
   },
   "file_extension": ".py",
   "mimetype": "text/x-python",
   "name": "python",
   "nbconvert_exporter": "python",
   "pygments_lexer": "ipython3",
   "version": "3.6.5"
  }
 },
 "nbformat": 4,
 "nbformat_minor": 2
}
