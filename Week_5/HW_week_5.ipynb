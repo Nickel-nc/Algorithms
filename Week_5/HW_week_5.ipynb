{
 "cells": [
  {
   "cell_type": "markdown",
   "metadata": {},
   "source": [
    "1. Пользователь вводит данные о количестве предприятий, их наименования и прибыль за 4 квартала (т.е. 4 отдельных числа) для каждого предприятия.. Программа должна определить среднюю прибыль (за год для всех предприятий) и вывести наименования предприятий, чья прибыль выше среднего и отдельно вывести наименования предприятий, чья прибыль ниже среднего."
   ]
  },
  {
   "cell_type": "code",
   "execution_count": 38,
   "metadata": {},
   "outputs": [
    {
     "name": "stdout",
     "output_type": "stream",
     "text": [
      "Число компаний 1\n",
      "Введите имя 1 компании W\n",
      "q1 1\n",
      "q2 1\n",
      "q3 1\n",
      "q4 1\n",
      "firms(name='W', q1=1, q2=1, q3=1, q4=1, sum=4)\n"
     ]
    }
   ],
   "source": [
    "# Задание пока в работе. Застрял на этапе итерации по компаниям\n",
    "from collections import namedtuple\n",
    "import random\n",
    "\n",
    "# collections.namedtuple()\n",
    "\n",
    "firm_num = int(input(\"Число компаний \"))\n",
    "\n",
    "\"\"\" Примеры имен компаний\n",
    "names = ['Amazon','Netflix', 'NVIDIA', 'Salesforce','ServiceNow',\n",
    "         'Square', 'Analog Devices', 'Palo Alto Networks', 'Splunk', 'Adobe Systems']\n",
    "\"\"\"\n",
    "\n",
    "firms = namedtuple('firms', ['name','q1', 'q2', 'q3', 'q4','sum'])\n",
    "\n",
    "for i in range(firm_num):\n",
    "    firm_name = input(f\"Введите имя {i+1} компании \")\n",
    "    q1 = int(input(\"q1 \"))\n",
    "    q2 = int(input(\"q2 \"))\n",
    "    q3 = int(input(\"q3 \"))\n",
    "    q4 = int(input(\"q4 \"))\n",
    "    firm = firms(firm_name, q1, q2, q3, q4, q1+q2+q3+q4)\n",
    "    \n",
    "print(firm)\n",
    "    \n",
    "    \n"
   ]
  },
  {
   "cell_type": "code",
   "execution_count": 45,
   "metadata": {},
   "outputs": [
    {
     "name": "stdout",
     "output_type": "stream",
     "text": [
      "Количество предприятий: 1\n",
      "Название предприятия: W\n",
      "Квартал 1: 1\n",
      "Квартал 2: 1\n",
      "Квартал 3: 1\n",
      "Квартал 4: 1\n",
      "[4]\n"
     ]
    }
   ],
   "source": [
    "firm_num = int(input(\"Количество предприятий: \"))\n",
    "name=[]\n",
    "get=[]\n",
    "fact=[]\n",
    "\n",
    "for i in range(firm_num):\n",
    "    n = input(\"Название предприятия: \")\n",
    "    name.append(n)\n",
    "    p1 = int(input(\"Квартал 1: \"))\n",
    "    p2 = int(input(\"Квартал 2: \"))\n",
    "    p3 = int(input(\"Квартал 3: \"))\n",
    "    p4 = int(input(\"Квартал 4: \"))\n",
    "    p5 = p1 + p2 + p3 + p4\n",
    "    get.append(p5)\n",
    "\n",
    "print(get)"
   ]
  },
  {
   "cell_type": "markdown",
   "metadata": {},
   "source": [
    "2. Написать программу сложения и умножения двух шестнадцатеричных чисел. При этом каждое число представляется как массив, элементы которого это цифры числа. Например, пользователь ввёл A2 и C4F. Сохранить их как [‘A’, ‘2’] и [‘C’, ‘4’, ‘F’] соответственно. Сумма чисел из примера: [‘C’, ‘F’, ‘1’], произведение - [‘7’, ‘C’, ‘9’, ‘F’, ‘E’]."
   ]
  },
  {
   "cell_type": "code",
   "execution_count": 28,
   "metadata": {},
   "outputs": [
    {
     "name": "stdout",
     "output_type": "stream",
     "text": [
      "Введите первое шестнадцатеричное число A2\n",
      "Введите второе шестнадцатиричное число C4F\n",
      "cf1 7c9fe\n"
     ]
    }
   ],
   "source": [
    "a = list(input(\"Введите первое шестнадцатеричное число \"))\n",
    "b = list(input(\"Введите второе шестнадцатиричное число \"))\n",
    "\n",
    "summ = hex(int(''.join(a), 16) + int(''.join(b), 16)).split('0x')[1]\n",
    "mult = hex(int(''.join(a), 16) * int(''.join(b), 16)).split('0x')[1]\n",
    "\n",
    "print(summ, mult)"
   ]
  },
  {
   "cell_type": "code",
   "execution_count": null,
   "metadata": {},
   "outputs": [],
   "source": []
  }
 ],
 "metadata": {
  "kernelspec": {
   "display_name": "Python 3",
   "language": "python",
   "name": "python3"
  },
  "language_info": {
   "codemirror_mode": {
    "name": "ipython",
    "version": 3
   },
   "file_extension": ".py",
   "mimetype": "text/x-python",
   "name": "python",
   "nbconvert_exporter": "python",
   "pygments_lexer": "ipython3",
   "version": "3.6.5"
  }
 },
 "nbformat": 4,
 "nbformat_minor": 2
}
